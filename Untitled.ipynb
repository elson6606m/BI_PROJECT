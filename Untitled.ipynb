{
 "cells": [
  {
   "cell_type": "code",
   "execution_count": 1,
   "id": "7c4a2dc9-21ff-4282-9872-3a46c9125afd",
   "metadata": {},
   "outputs": [
    {
     "ename": "ModuleNotFoundError",
     "evalue": "No module named 'prefect'",
     "output_type": "error",
     "traceback": [
      "\u001b[1;31m---------------------------------------------------------------------------\u001b[0m",
      "\u001b[1;31mModuleNotFoundError\u001b[0m                       Traceback (most recent call last)",
      "Cell \u001b[1;32mIn[1], line 1\u001b[0m\n\u001b[1;32m----> 1\u001b[0m \u001b[38;5;28;01mfrom\u001b[39;00m \u001b[38;5;21;01mprefect\u001b[39;00m \u001b[38;5;28;01mimport\u001b[39;00m flow, task\n\u001b[0;32m      2\u001b[0m \u001b[38;5;28;01mimport\u001b[39;00m \u001b[38;5;21;01msubprocess\u001b[39;00m\n\u001b[0;32m      4\u001b[0m \u001b[38;5;129m@task\u001b[39m\n\u001b[0;32m      5\u001b[0m \u001b[38;5;28;01mdef\u001b[39;00m \u001b[38;5;21mextract\u001b[39m():\n",
      "\u001b[1;31mModuleNotFoundError\u001b[0m: No module named 'prefect'"
     ]
    }
   ],
   "source": [
    "from prefect import flow, task\n",
    "import subprocess\n",
    "\n",
    "@task\n",
    "def extract():\n",
    "    print(\"📤 Running extract.py...\")\n",
    "    subprocess.run([\"python\", \"extract.py\"], check=True)\n",
    "\n",
    "@task\n",
    "def load():\n",
    "    print(\"📦 Running load.py...\")\n",
    "    subprocess.run([\"python\", \"load.py\"], check=True)\n",
    "\n",
    "@task\n",
    "def transform():\n",
    "    print(\"🔄 Running dbt...\")\n",
    "    subprocess.run([\"dbt\", \"run\"], cwd=\"dbt/my_dbt_project\", check=True)\n",
    "\n",
    "@flow(name=\"Stock Market ETL\")\n",
    "def etl_pipeline():\n",
    "    extract()\n",
    "    load()\n",
    "    transform()\n",
    "\n",
    "if __name__ == \"__main__\":\n",
    "    etl_pipeline()"
   ]
  },
  {
   "cell_type": "code",
   "execution_count": null,
   "id": "c5311ba0-a96c-43ab-9a46-1209745ced77",
   "metadata": {},
   "outputs": [],
   "source": []
  }
 ],
 "metadata": {
  "kernelspec": {
   "display_name": "Python [conda env:base] *",
   "language": "python",
   "name": "conda-base-py"
  },
  "language_info": {
   "codemirror_mode": {
    "name": "ipython",
    "version": 3
   },
   "file_extension": ".py",
   "mimetype": "text/x-python",
   "name": "python",
   "nbconvert_exporter": "python",
   "pygments_lexer": "ipython3",
   "version": "3.12.7"
  }
 },
 "nbformat": 4,
 "nbformat_minor": 5
}
